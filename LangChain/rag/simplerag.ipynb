{
 "cells": [
  {
   "cell_type": "code",
   "execution_count": 2,
   "id": "8c735aa7",
   "metadata": {},
   "outputs": [
    {
     "data": {
      "text/plain": [
       "[Document(metadata={'source': 'speech.txt'}, page_content='Ladies and gentlemen,\\n\\nToday, I want to share a simple yet powerful message with you: Believe in yourself. The journey of life is filled with challenges, obstacles, and moments of doubt. But it\\'s in those moments that your belief in yourself can make all the difference.\\n\\nThink about your dreams, your goals, the things that truly matter to you. They are within your reach, but only if you have the unwavering faith that you can achieve them. Remember, some of the most successful people in the world faced countless rejections and failures, but they never gave up. They believed in themselves and their abilities.\\n\\nEvery day, when you wake up, tell yourself that you are capable, you are strong, and you are destined for greatness. Don\\'t let fear or self-doubt hold you back. Embrace challenges as opportunities to learn and grow.\\n\\nIn the words of Henry Ford, \"Whether you think you can, or you think you can\\'t, you\\'re right.\" So, choose to believe you can, and you\\'ll be amazed at what you can achieve. Your journey begins with self-belief, and the world is waiting to witness your greatness. Keep believing, keep pushing, and success will be yours.')]"
      ]
     },
     "execution_count": 2,
     "metadata": {},
     "output_type": "execute_result"
    }
   ],
   "source": [
    "#data ingestion steps (eg read frm txt file)\n",
    "from langchain_community.document_loaders import TextLoader\n",
    "loader= TextLoader(\"speech.txt\")\n",
    "text_document= loader.load()\n",
    "text_document"
   ]
  },
  {
   "cell_type": "code",
   "execution_count": 7,
   "id": "304090fe",
   "metadata": {},
   "outputs": [
    {
     "name": "stdout",
     "output_type": "stream",
     "text": [
      "Collecting beautifulsoup4\n",
      "  Using cached beautifulsoup4-4.13.5-py3-none-any.whl.metadata (3.8 kB)\n",
      "Collecting soupsieve>1.2 (from beautifulsoup4)\n",
      "  Using cached soupsieve-2.8-py3-none-any.whl.metadata (4.6 kB)\n",
      "Requirement already satisfied: typing-extensions>=4.0.0 in d:\\genai\\.venv\\lib\\site-packages (from beautifulsoup4) (4.15.0)\n",
      "Using cached beautifulsoup4-4.13.5-py3-none-any.whl (105 kB)\n",
      "Using cached soupsieve-2.8-py3-none-any.whl (36 kB)\n",
      "Installing collected packages: soupsieve, beautifulsoup4\n",
      "\n",
      "   -------------------- ------------------- 1/2 [beautifulsoup4]\n",
      "   -------------------- ------------------- 1/2 [beautifulsoup4]\n",
      "   ---------------------------------------- 2/2 [beautifulsoup4]\n",
      "\n",
      "Successfully installed beautifulsoup4-4.13.5 soupsieve-2.8\n"
     ]
    },
    {
     "name": "stderr",
     "output_type": "stream",
     "text": [
      "\n",
      "[notice] A new release of pip is available: 25.1.1 -> 25.2\n",
      "[notice] To update, run: python.exe -m pip install --upgrade pip\n"
     ]
    }
   ],
   "source": [
    "!pip install beautifulsoup4\n"
   ]
  },
  {
   "cell_type": "code",
   "execution_count": 10,
   "id": "7c8158ed",
   "metadata": {},
   "outputs": [
    {
     "name": "stdout",
     "output_type": "stream",
     "text": [
      "1\n",
      "\n",
      "\n",
      "      LLM Powered Autonomous Agents\n",
      "    \n",
      "Date: June 23, 2023  |  Estimated Reading Time: 31 min  |  Author: Lilian Weng\n",
      "\n",
      "\n",
      "Building agents with LLM (large language model) as its core controller is a cool concept. Several proof-of-concepts demos, such as AutoGPT, GPT-Engineer and BabyAGI, serve as inspiring examples. The potentiality of LLM extends beyond generating well-written copies, stories, essays and programs; it can be framed as a powerful general problem solver.\n",
      "Agent System Overview#\n",
      "In\n"
     ]
    }
   ],
   "source": [
    "# web based loader\n",
    "from langchain_community.document_loaders import WebBaseLoader\n",
    "from bs4 import SoupStrainer\n",
    "\n",
    "# load, chunk and index the content of the html page\n",
    "loader = WebBaseLoader(\n",
    "    web_paths=(\"https://lilianweng.github.io/posts/2023-06-23-agent/\",),\n",
    "    bs_kwargs=dict(\n",
    "        parse_only=SoupStrainer(\n",
    "            class_=(\"post-title\", \"post-content\", \"post-header\")\n",
    "        )\n",
    "    )\n",
    ")\n",
    "\n",
    "text_documents = loader.load()\n",
    "\n",
    "print(len(text_documents))\n",
    "print(text_documents[0].page_content[:500])\n"
   ]
  },
  {
   "cell_type": "code",
   "execution_count": 12,
   "id": "d5f87370",
   "metadata": {},
   "outputs": [
    {
     "name": "stdout",
     "output_type": "stream",
     "text": [
      "Collecting pypdf\n",
      "  Using cached pypdf-6.0.0-py3-none-any.whl.metadata (7.1 kB)\n",
      "Using cached pypdf-6.0.0-py3-none-any.whl (310 kB)\n",
      "Installing collected packages: pypdf\n",
      "Successfully installed pypdf-6.0.0\n"
     ]
    },
    {
     "name": "stderr",
     "output_type": "stream",
     "text": [
      "\n",
      "[notice] A new release of pip is available: 25.1.1 -> 25.2\n",
      "[notice] To update, run: python.exe -m pip install --upgrade pip\n"
     ]
    }
   ],
   "source": [
    "!pip install pypdf\n"
   ]
  },
  {
   "cell_type": "code",
   "execution_count": 14,
   "id": "c9811814",
   "metadata": {},
   "outputs": [
    {
     "name": "stderr",
     "output_type": "stream",
     "text": [
      "invalid pdf header: b'Atten'\n",
      "EOF marker not found\n"
     ]
    },
    {
     "ename": "PdfStreamError",
     "evalue": "Stream has ended unexpectedly",
     "output_type": "error",
     "traceback": [
      "\u001b[31m---------------------------------------------------------------------------\u001b[39m",
      "\u001b[31mPdfStreamError\u001b[39m                            Traceback (most recent call last)",
      "\u001b[36mCell\u001b[39m\u001b[36m \u001b[39m\u001b[32mIn[14]\u001b[39m\u001b[32m, line 4\u001b[39m\n\u001b[32m      2\u001b[39m \u001b[38;5;28;01mfrom\u001b[39;00m\u001b[38;5;250m \u001b[39m\u001b[34;01mlangchain_community\u001b[39;00m\u001b[34;01m.\u001b[39;00m\u001b[34;01mdocument_loaders\u001b[39;00m\u001b[38;5;250m \u001b[39m\u001b[38;5;28;01mimport\u001b[39;00m PyPDFLoader\n\u001b[32m      3\u001b[39m loader= PyPDFLoader(\u001b[33m'\u001b[39m\u001b[33mattention.pdf\u001b[39m\u001b[33m'\u001b[39m)\n\u001b[32m----> \u001b[39m\u001b[32m4\u001b[39m docs= \u001b[43mloader\u001b[49m\u001b[43m.\u001b[49m\u001b[43mload\u001b[49m\u001b[43m(\u001b[49m\u001b[43m)\u001b[49m\n",
      "\u001b[36mFile \u001b[39m\u001b[32md:\\genai\\.venv\\Lib\\site-packages\\langchain_core\\document_loaders\\base.py:32\u001b[39m, in \u001b[36mBaseLoader.load\u001b[39m\u001b[34m(self)\u001b[39m\n\u001b[32m     30\u001b[39m \u001b[38;5;28;01mdef\u001b[39;00m\u001b[38;5;250m \u001b[39m\u001b[34mload\u001b[39m(\u001b[38;5;28mself\u001b[39m) -> \u001b[38;5;28mlist\u001b[39m[Document]:\n\u001b[32m     31\u001b[39m \u001b[38;5;250m    \u001b[39m\u001b[33;03m\"\"\"Load data into Document objects.\"\"\"\u001b[39;00m\n\u001b[32m---> \u001b[39m\u001b[32m32\u001b[39m     \u001b[38;5;28;01mreturn\u001b[39;00m \u001b[38;5;28;43mlist\u001b[39;49m\u001b[43m(\u001b[49m\u001b[38;5;28;43mself\u001b[39;49m\u001b[43m.\u001b[49m\u001b[43mlazy_load\u001b[49m\u001b[43m(\u001b[49m\u001b[43m)\u001b[49m\u001b[43m)\u001b[49m\n",
      "\u001b[36mFile \u001b[39m\u001b[32md:\\genai\\.venv\\Lib\\site-packages\\langchain_community\\document_loaders\\pdf.py:305\u001b[39m, in \u001b[36mPyPDFLoader.lazy_load\u001b[39m\u001b[34m(self)\u001b[39m\n\u001b[32m    303\u001b[39m \u001b[38;5;28;01melse\u001b[39;00m:\n\u001b[32m    304\u001b[39m     blob = Blob.from_path(\u001b[38;5;28mself\u001b[39m.file_path)\n\u001b[32m--> \u001b[39m\u001b[32m305\u001b[39m \u001b[38;5;28;01myield from\u001b[39;00m \u001b[38;5;28mself\u001b[39m.parser.lazy_parse(blob)\n",
      "\u001b[36mFile \u001b[39m\u001b[32md:\\genai\\.venv\\Lib\\site-packages\\langchain_community\\document_loaders\\parsers\\pdf.py:384\u001b[39m, in \u001b[36mPyPDFParser.lazy_parse\u001b[39m\u001b[34m(self, blob)\u001b[39m\n\u001b[32m    378\u001b[39m         \u001b[38;5;28;01mreturn\u001b[39;00m page.extract_text(\n\u001b[32m    379\u001b[39m             extraction_mode=\u001b[38;5;28mself\u001b[39m.extraction_mode,\n\u001b[32m    380\u001b[39m             **\u001b[38;5;28mself\u001b[39m.extraction_kwargs,\n\u001b[32m    381\u001b[39m         )\n\u001b[32m    383\u001b[39m \u001b[38;5;28;01mwith\u001b[39;00m blob.as_bytes_io() \u001b[38;5;28;01mas\u001b[39;00m pdf_file_obj:\n\u001b[32m--> \u001b[39m\u001b[32m384\u001b[39m     pdf_reader = \u001b[43mpypdf\u001b[49m\u001b[43m.\u001b[49m\u001b[43mPdfReader\u001b[49m\u001b[43m(\u001b[49m\u001b[43mpdf_file_obj\u001b[49m\u001b[43m,\u001b[49m\u001b[43m \u001b[49m\u001b[43mpassword\u001b[49m\u001b[43m=\u001b[49m\u001b[38;5;28;43mself\u001b[39;49m\u001b[43m.\u001b[49m\u001b[43mpassword\u001b[49m\u001b[43m)\u001b[49m\n\u001b[32m    386\u001b[39m     doc_metadata = _purge_metadata(\n\u001b[32m    387\u001b[39m         {\u001b[33m\"\u001b[39m\u001b[33mproducer\u001b[39m\u001b[33m\"\u001b[39m: \u001b[33m\"\u001b[39m\u001b[33mPyPDF\u001b[39m\u001b[33m\"\u001b[39m, \u001b[33m\"\u001b[39m\u001b[33mcreator\u001b[39m\u001b[33m\"\u001b[39m: \u001b[33m\"\u001b[39m\u001b[33mPyPDF\u001b[39m\u001b[33m\"\u001b[39m, \u001b[33m\"\u001b[39m\u001b[33mcreationdate\u001b[39m\u001b[33m\"\u001b[39m: \u001b[33m\"\u001b[39m\u001b[33m\"\u001b[39m}\n\u001b[32m    388\u001b[39m         | cast(\u001b[38;5;28mdict\u001b[39m, pdf_reader.metadata \u001b[38;5;129;01mor\u001b[39;00m {})\n\u001b[32m   (...)\u001b[39m\u001b[32m    392\u001b[39m         }\n\u001b[32m    393\u001b[39m     )\n\u001b[32m    394\u001b[39m     single_texts = []\n",
      "\u001b[36mFile \u001b[39m\u001b[32md:\\genai\\.venv\\Lib\\site-packages\\pypdf\\_reader.py:131\u001b[39m, in \u001b[36mPdfReader.__init__\u001b[39m\u001b[34m(self, stream, strict, password)\u001b[39m\n\u001b[32m    127\u001b[39m \u001b[38;5;28mself\u001b[39m._page_id2num: Optional[\u001b[38;5;28mdict\u001b[39m[Any, Any]] = \u001b[38;5;28;01mNone\u001b[39;00m\n\u001b[32m    129\u001b[39m \u001b[38;5;28mself\u001b[39m._validated_root: Optional[DictionaryObject] = \u001b[38;5;28;01mNone\u001b[39;00m\n\u001b[32m--> \u001b[39m\u001b[32m131\u001b[39m \u001b[38;5;28;43mself\u001b[39;49m\u001b[43m.\u001b[49m\u001b[43m_initialize_stream\u001b[49m\u001b[43m(\u001b[49m\u001b[43mstream\u001b[49m\u001b[43m)\u001b[49m\n\u001b[32m    132\u001b[39m \u001b[38;5;28mself\u001b[39m._known_objects: \u001b[38;5;28mset\u001b[39m[\u001b[38;5;28mtuple\u001b[39m[\u001b[38;5;28mint\u001b[39m, \u001b[38;5;28mint\u001b[39m]] = \u001b[38;5;28mset\u001b[39m()\n\u001b[32m    134\u001b[39m \u001b[38;5;28mself\u001b[39m._override_encryption = \u001b[38;5;28;01mFalse\u001b[39;00m\n",
      "\u001b[36mFile \u001b[39m\u001b[32md:\\genai\\.venv\\Lib\\site-packages\\pypdf\\_reader.py:153\u001b[39m, in \u001b[36mPdfReader._initialize_stream\u001b[39m\u001b[34m(self, stream)\u001b[39m\n\u001b[32m    151\u001b[39m         stream = BytesIO(fh.read())\n\u001b[32m    152\u001b[39m     \u001b[38;5;28mself\u001b[39m._stream_opened = \u001b[38;5;28;01mTrue\u001b[39;00m\n\u001b[32m--> \u001b[39m\u001b[32m153\u001b[39m \u001b[38;5;28;43mself\u001b[39;49m\u001b[43m.\u001b[49m\u001b[43mread\u001b[49m\u001b[43m(\u001b[49m\u001b[43mstream\u001b[49m\u001b[43m)\u001b[49m\n\u001b[32m    154\u001b[39m \u001b[38;5;28mself\u001b[39m.stream = stream\n",
      "\u001b[36mFile \u001b[39m\u001b[32md:\\genai\\.venv\\Lib\\site-packages\\pypdf\\_reader.py:592\u001b[39m, in \u001b[36mPdfReader.read\u001b[39m\u001b[34m(self, stream)\u001b[39m\n\u001b[32m    584\u001b[39m \u001b[38;5;250m\u001b[39m\u001b[33;03m\"\"\"\u001b[39;00m\n\u001b[32m    585\u001b[39m \u001b[33;03mRead and process the PDF stream, extracting necessary data.\u001b[39;00m\n\u001b[32m    586\u001b[39m \n\u001b[32m   (...)\u001b[39m\u001b[32m    589\u001b[39m \n\u001b[32m    590\u001b[39m \u001b[33;03m\"\"\"\u001b[39;00m\n\u001b[32m    591\u001b[39m \u001b[38;5;28mself\u001b[39m._basic_validation(stream)\n\u001b[32m--> \u001b[39m\u001b[32m592\u001b[39m \u001b[38;5;28;43mself\u001b[39;49m\u001b[43m.\u001b[49m\u001b[43m_find_eof_marker\u001b[49m\u001b[43m(\u001b[49m\u001b[43mstream\u001b[49m\u001b[43m)\u001b[49m\n\u001b[32m    593\u001b[39m startxref = \u001b[38;5;28mself\u001b[39m._find_startxref_pos(stream)\n\u001b[32m    594\u001b[39m \u001b[38;5;28mself\u001b[39m._startxref = startxref\n",
      "\u001b[36mFile \u001b[39m\u001b[32md:\\genai\\.venv\\Lib\\site-packages\\pypdf\\_reader.py:698\u001b[39m, in \u001b[36mPdfReader._find_eof_marker\u001b[39m\u001b[34m(self, stream)\u001b[39m\n\u001b[32m    696\u001b[39m         \u001b[38;5;28;01mraise\u001b[39;00m PdfReadError(\u001b[33m\"\u001b[39m\u001b[33mEOF marker not found\u001b[39m\u001b[33m\"\u001b[39m)\n\u001b[32m    697\u001b[39m     logger_warning(\u001b[33m\"\u001b[39m\u001b[33mEOF marker not found\u001b[39m\u001b[33m\"\u001b[39m, \u001b[34m__name__\u001b[39m)\n\u001b[32m--> \u001b[39m\u001b[32m698\u001b[39m line = \u001b[43mread_previous_line\u001b[49m\u001b[43m(\u001b[49m\u001b[43mstream\u001b[49m\u001b[43m)\u001b[49m\n",
      "\u001b[36mFile \u001b[39m\u001b[32md:\\genai\\.venv\\Lib\\site-packages\\pypdf\\_utils.py:316\u001b[39m, in \u001b[36mread_previous_line\u001b[39m\u001b[34m(stream)\u001b[39m\n\u001b[32m    314\u001b[39m found_crlf = \u001b[38;5;28;01mFalse\u001b[39;00m\n\u001b[32m    315\u001b[39m \u001b[38;5;28;01mif\u001b[39;00m stream.tell() == \u001b[32m0\u001b[39m:\n\u001b[32m--> \u001b[39m\u001b[32m316\u001b[39m     \u001b[38;5;28;01mraise\u001b[39;00m PdfStreamError(STREAM_TRUNCATED_PREMATURELY)\n\u001b[32m    317\u001b[39m \u001b[38;5;28;01mwhile\u001b[39;00m \u001b[38;5;28;01mTrue\u001b[39;00m:\n\u001b[32m    318\u001b[39m     to_read = \u001b[38;5;28mmin\u001b[39m(DEFAULT_BUFFER_SIZE, stream.tell())\n",
      "\u001b[31mPdfStreamError\u001b[39m: Stream has ended unexpectedly"
     ]
    }
   ],
   "source": [
    "##directly from pdf\n",
    "from langchain_community.document_loaders import PyPDFLoader\n",
    "loader= PyPDFLoader('attention.pdf')\n",
    "docs= loader.load()\n",
    "\n",
    "\n"
   ]
  }
 ],
 "metadata": {
  "kernelspec": {
   "display_name": ".venv",
   "language": "python",
   "name": "python3"
  },
  "language_info": {
   "codemirror_mode": {
    "name": "ipython",
    "version": 3
   },
   "file_extension": ".py",
   "mimetype": "text/x-python",
   "name": "python",
   "nbconvert_exporter": "python",
   "pygments_lexer": "ipython3",
   "version": "3.13.4"
  }
 },
 "nbformat": 4,
 "nbformat_minor": 5
}
