{
 "cells": [
  {
   "cell_type": "code",
   "execution_count": 1,
   "id": "78fd25e5",
   "metadata": {},
   "outputs": [
    {
     "name": "stdout",
     "output_type": "stream",
     "text": [
      "Requirement already satisfied: nltk in c:\\users\\hp\\anaconda3\\lib\\site-packages (3.8.1)\n",
      "Requirement already satisfied: click in c:\\users\\hp\\anaconda3\\lib\\site-packages (from nltk) (8.0.4)\n",
      "Requirement already satisfied: joblib in c:\\users\\hp\\anaconda3\\lib\\site-packages (from nltk) (1.2.0)\n",
      "Requirement already satisfied: regex>=2021.8.3 in c:\\users\\hp\\anaconda3\\lib\\site-packages (from nltk) (2022.7.9)\n",
      "Requirement already satisfied: tqdm in c:\\users\\hp\\anaconda3\\lib\\site-packages (from nltk) (4.65.0)\n",
      "Requirement already satisfied: colorama in c:\\users\\hp\\anaconda3\\lib\\site-packages (from click->nltk) (0.4.6)\n"
     ]
    }
   ],
   "source": [
    "!pip install nltk\n"
   ]
  },
  {
   "cell_type": "code",
   "execution_count": 2,
   "id": "81d62cde",
   "metadata": {},
   "outputs": [],
   "source": [
    "paragraph='Modi was born and raised in Vadnagar, Bombay State (present-day Gujarat), where he completed his secondary education. He was introduced to the RSS at the age of eight, becoming a full-time worker for the organisation in Gujarat in 1971. The RSS assigned him to the BJP in 1985, and he rose through the party hierarchy, becoming general secretary in 1998.[b] In 2001, Modi was appointed chief minister of Gujarat and elected to the legislative assembly soon after. His administration is considered complicit in the 2002 Gujarat riots[c] and has been criticised for its management of the crisis. According to official records, a little over 1,000 people were killed, three-quarters of whom were Muslim; independent sources estimated 2,000 deaths, mostly Muslim.[4] A Special Investigation Team appointed by the Supreme Court of India in 2012 found no evidence to initiate prosecution proceedings against him.[d] While his policies as chief minister were credited for encouraging economic growth, his administration was criticised for failing to significantly improve health, poverty and education indices in the state.[e]'"
   ]
  },
  {
   "cell_type": "code",
   "execution_count": 3,
   "id": "6585bae1",
   "metadata": {},
   "outputs": [
    {
     "data": {
      "text/plain": [
       "'Modi was born and raised in Vadnagar, Bombay State (present-day Gujarat), where he completed his secondary education. He was introduced to the RSS at the age of eight, becoming a full-time worker for the organisation in Gujarat in 1971. The RSS assigned him to the BJP in 1985, and he rose through the party hierarchy, becoming general secretary in 1998.[b] In 2001, Modi was appointed chief minister of Gujarat and elected to the legislative assembly soon after. His administration is considered complicit in the 2002 Gujarat riots[c] and has been criticised for its management of the crisis. According to official records, a little over 1,000 people were killed, three-quarters of whom were Muslim; independent sources estimated 2,000 deaths, mostly Muslim.[4] A Special Investigation Team appointed by the Supreme Court of India in 2012 found no evidence to initiate prosecution proceedings against him.[d] While his policies as chief minister were credited for encouraging economic growth, his administration was criticised for failing to significantly improve health, poverty and education indices in the state.[e]'"
      ]
     },
     "execution_count": 3,
     "metadata": {},
     "output_type": "execute_result"
    }
   ],
   "source": [
    "paragraph"
   ]
  },
  {
   "cell_type": "code",
   "execution_count": 4,
   "id": "29331dbd",
   "metadata": {},
   "outputs": [],
   "source": [
    "import nltk\n",
    "from nltk.stem import PorterStemmer\n",
    "from nltk.corpus import stopwords"
   ]
  },
  {
   "cell_type": "code",
   "execution_count": 5,
   "id": "39187e08",
   "metadata": {},
   "outputs": [
    {
     "name": "stderr",
     "output_type": "stream",
     "text": [
      "[nltk_data] Downloading package punkt to\n",
      "[nltk_data]     C:\\Users\\hp\\AppData\\Roaming\\nltk_data...\n",
      "[nltk_data]   Package punkt is already up-to-date!\n"
     ]
    },
    {
     "data": {
      "text/plain": [
       "['Modi was born and raised in Vadnagar, Bombay State (present-day Gujarat), where he completed his secondary education.',\n",
       " 'He was introduced to the RSS at the age of eight, becoming a full-time worker for the organisation in Gujarat in 1971.',\n",
       " 'The RSS assigned him to the BJP in 1985, and he rose through the party hierarchy, becoming general secretary in 1998.',\n",
       " '[b] In 2001, Modi was appointed chief minister of Gujarat and elected to the legislative assembly soon after.',\n",
       " 'His administration is considered complicit in the 2002 Gujarat riots[c] and has been criticised for its management of the crisis.',\n",
       " 'According to official records, a little over 1,000 people were killed, three-quarters of whom were Muslim; independent sources estimated 2,000 deaths, mostly Muslim.',\n",
       " '[4] A Special Investigation Team appointed by the Supreme Court of India in 2012 found no evidence to initiate prosecution proceedings against him.',\n",
       " '[d] While his policies as chief minister were credited for encouraging economic growth, his administration was criticised for failing to significantly improve health, poverty and education indices in the state.',\n",
       " '[e]']"
      ]
     },
     "execution_count": 5,
     "metadata": {},
     "output_type": "execute_result"
    }
   ],
   "source": [
    "##tookenization: para into sentences\n",
    "nltk.download('punkt')\n",
    "sentences= nltk.sent_tokenize(paragraph)\n",
    "sentences"
   ]
  },
  {
   "cell_type": "code",
   "execution_count": 6,
   "id": "c1c769e9",
   "metadata": {},
   "outputs": [],
   "source": [
    "##stemming\n",
    "stemmer= PorterStemmer()"
   ]
  },
  {
   "cell_type": "code",
   "execution_count": 7,
   "id": "22e320ad",
   "metadata": {},
   "outputs": [
    {
     "data": {
      "text/plain": [
       "'histori'"
      ]
     },
     "execution_count": 7,
     "metadata": {},
     "output_type": "execute_result"
    }
   ],
   "source": [
    "stemmer.stem('history')"
   ]
  },
  {
   "cell_type": "code",
   "execution_count": 8,
   "id": "1f9a52cf",
   "metadata": {},
   "outputs": [],
   "source": [
    "##lemmetization\n",
    "from nltk.stem import WordNetLemmatizer\n"
   ]
  },
  {
   "cell_type": "code",
   "execution_count": 9,
   "id": "9eaf2842",
   "metadata": {},
   "outputs": [],
   "source": [
    "lemmatizer= WordNetLemmatizer()\n"
   ]
  },
  {
   "cell_type": "code",
   "execution_count": 10,
   "id": "d2b0b115",
   "metadata": {},
   "outputs": [
    {
     "data": {
      "text/plain": [
       "'history'"
      ]
     },
     "execution_count": 10,
     "metadata": {},
     "output_type": "execute_result"
    }
   ],
   "source": [
    "lemmatizer.lemmatize('history')"
   ]
  },
  {
   "cell_type": "code",
   "execution_count": 11,
   "id": "5c525624",
   "metadata": {},
   "outputs": [
    {
     "data": {
      "text/plain": [
       "'going'"
      ]
     },
     "execution_count": 11,
     "metadata": {},
     "output_type": "execute_result"
    }
   ],
   "source": [
    "lemmatizer.lemmatize('going')"
   ]
  },
  {
   "cell_type": "code",
   "execution_count": 12,
   "id": "de53f0cc",
   "metadata": {},
   "outputs": [
    {
     "data": {
      "text/plain": [
       "9"
      ]
     },
     "execution_count": 12,
     "metadata": {},
     "output_type": "execute_result"
    }
   ],
   "source": [
    "len(sentences)"
   ]
  },
  {
   "cell_type": "code",
   "execution_count": 13,
   "id": "a92bed64",
   "metadata": {},
   "outputs": [],
   "source": [
    "##text claening\n",
    "import re\n",
    "corpus= []\n",
    "\n",
    "for i in range(len(sentences)):\n",
    "    review=re.sub('[^a-zA-z]', ' ', sentences[i])\n",
    "    review= review.lower()\n",
    "    corpus.append(review)\n"
   ]
  },
  {
   "cell_type": "code",
   "execution_count": 14,
   "id": "fc7c9f09",
   "metadata": {},
   "outputs": [
    {
     "data": {
      "text/plain": [
       "['modi was born and raised in vadnagar  bombay state  present day gujarat   where he completed his secondary education ',\n",
       " 'he was introduced to the rss at the age of eight  becoming a full time worker for the organisation in gujarat in      ',\n",
       " 'the rss assigned him to the bjp in       and he rose through the party hierarchy  becoming general secretary in      ',\n",
       " '[b] in       modi was appointed chief minister of gujarat and elected to the legislative assembly soon after ',\n",
       " 'his administration is considered complicit in the      gujarat riots[c] and has been criticised for its management of the crisis ',\n",
       " 'according to official records  a little over       people were killed  three quarters of whom were muslim  independent sources estimated       deaths  mostly muslim ',\n",
       " '[ ] a special investigation team appointed by the supreme court of india in      found no evidence to initiate prosecution proceedings against him ',\n",
       " '[d] while his policies as chief minister were credited for encouraging economic growth  his administration was criticised for failing to significantly improve health  poverty and education indices in the state ',\n",
       " '[e]']"
      ]
     },
     "execution_count": 14,
     "metadata": {},
     "output_type": "execute_result"
    }
   ],
   "source": [
    "corpus"
   ]
  },
  {
   "cell_type": "code",
   "execution_count": 15,
   "id": "52325714",
   "metadata": {},
   "outputs": [
    {
     "name": "stdout",
     "output_type": "stream",
     "text": [
      "modi\n",
      "born\n",
      "rais\n",
      "vadnagar\n",
      "bombay\n",
      "state\n",
      "present\n",
      "day\n",
      "gujarat\n",
      "complet\n",
      "secondari\n",
      "educ\n",
      "introduc\n",
      "rss\n",
      "age\n",
      "eight\n",
      "becom\n",
      "full\n",
      "time\n",
      "worker\n",
      "organis\n",
      "gujarat\n",
      "rss\n",
      "assign\n",
      "bjp\n",
      "rose\n",
      "parti\n",
      "hierarchi\n",
      "becom\n",
      "gener\n",
      "secretari\n",
      "[\n",
      "b\n",
      "]\n",
      "modi\n",
      "appoint\n",
      "chief\n",
      "minist\n",
      "gujarat\n",
      "elect\n",
      "legisl\n",
      "assembl\n",
      "soon\n",
      "administr\n",
      "consid\n",
      "complicit\n",
      "gujarat\n",
      "riot\n",
      "[\n",
      "c\n",
      "]\n",
      "criticis\n",
      "manag\n",
      "crisi\n",
      "accord\n",
      "offici\n",
      "record\n",
      "littl\n",
      "peopl\n",
      "kill\n",
      "three\n",
      "quarter\n",
      "muslim\n",
      "independ\n",
      "sourc\n",
      "estim\n",
      "death\n",
      "mostli\n",
      "muslim\n",
      "[\n",
      "]\n",
      "special\n",
      "investig\n",
      "team\n",
      "appoint\n",
      "suprem\n",
      "court\n",
      "india\n",
      "found\n",
      "evid\n",
      "initi\n",
      "prosecut\n",
      "proceed\n",
      "[\n",
      "]\n",
      "polici\n",
      "chief\n",
      "minist\n",
      "credit\n",
      "encourag\n",
      "econom\n",
      "growth\n",
      "administr\n",
      "criticis\n",
      "fail\n",
      "significantli\n",
      "improv\n",
      "health\n",
      "poverti\n",
      "educ\n",
      "indic\n",
      "state\n",
      "[\n",
      "e\n",
      "]\n"
     ]
    }
   ],
   "source": [
    "## stemming\n",
    "for i in corpus:\n",
    "    words= nltk.word_tokenize(i)\n",
    "    for word in words:\n",
    "        if word not in set(stopwords.words('english')):\n",
    "            print(stemmer.stem(word))"
   ]
  },
  {
   "cell_type": "code",
   "execution_count": 16,
   "id": "6ece8c83",
   "metadata": {},
   "outputs": [
    {
     "name": "stdout",
     "output_type": "stream",
     "text": [
      "modi\n",
      "born\n",
      "raised\n",
      "vadnagar\n",
      "bombay\n",
      "state\n",
      "present\n",
      "day\n",
      "gujarat\n",
      "completed\n",
      "secondary\n",
      "education\n",
      "introduced\n",
      "r\n",
      "age\n",
      "eight\n",
      "becoming\n",
      "full\n",
      "time\n",
      "worker\n",
      "organisation\n",
      "gujarat\n",
      "r\n",
      "assigned\n",
      "bjp\n",
      "rose\n",
      "party\n",
      "hierarchy\n",
      "becoming\n",
      "general\n",
      "secretary\n",
      "[\n",
      "b\n",
      "]\n",
      "modi\n",
      "appointed\n",
      "chief\n",
      "minister\n",
      "gujarat\n",
      "elected\n",
      "legislative\n",
      "assembly\n",
      "soon\n",
      "administration\n",
      "considered\n",
      "complicit\n",
      "gujarat\n",
      "riot\n",
      "[\n",
      "c\n",
      "]\n",
      "criticised\n",
      "management\n",
      "crisis\n",
      "according\n",
      "official\n",
      "record\n",
      "little\n",
      "people\n",
      "killed\n",
      "three\n",
      "quarter\n",
      "muslim\n",
      "independent\n",
      "source\n",
      "estimated\n",
      "death\n",
      "mostly\n",
      "muslim\n",
      "[\n",
      "]\n",
      "special\n",
      "investigation\n",
      "team\n",
      "appointed\n",
      "supreme\n",
      "court\n",
      "india\n",
      "found\n",
      "evidence\n",
      "initiate\n",
      "prosecution\n",
      "proceeding\n",
      "[\n",
      "]\n",
      "policy\n",
      "chief\n",
      "minister\n",
      "credited\n",
      "encouraging\n",
      "economic\n",
      "growth\n",
      "administration\n",
      "criticised\n",
      "failing\n",
      "significantly\n",
      "improve\n",
      "health\n",
      "poverty\n",
      "education\n",
      "index\n",
      "state\n",
      "[\n",
      "e\n",
      "]\n"
     ]
    }
   ],
   "source": [
    "##lemmetization\n",
    "for i in corpus:\n",
    "    words= nltk.word_tokenize(i)\n",
    "    for word in words:\n",
    "        if word not in set(stopwords.words('english')):\n",
    "            print(lemmatizer.lemmatize(word))"
   ]
  },
  {
   "cell_type": "code",
   "execution_count": 17,
   "id": "9ce4c85b",
   "metadata": {},
   "outputs": [],
   "source": [
    "import re\n",
    "corpus=[]\n",
    "for i in range(len(sentences)):\n",
    "    review= re.sub('[^a-zA-z]', ' ', sentences[i])\n",
    "    review= review.lower()\n",
    "    review= review.split()\n",
    "    review= [lemmatizer.lemmatize(word) for word in review if not word in set(stopwords.words('english'))]\n",
    "    review= ' '.join(review)\n",
    "    corpus.append(review)"
   ]
  },
  {
   "cell_type": "code",
   "execution_count": 18,
   "id": "2a4e6c25",
   "metadata": {},
   "outputs": [],
   "source": [
    "from sklearn.feature_extraction.text import CountVectorizer\n",
    "\n",
    "cv= CountVectorizer()"
   ]
  },
  {
   "cell_type": "code",
   "execution_count": 19,
   "id": "f27e7f82",
   "metadata": {},
   "outputs": [],
   "source": [
    "X=cv.fit_transform(corpus)"
   ]
  },
  {
   "cell_type": "code",
   "execution_count": 20,
   "id": "24505538",
   "metadata": {},
   "outputs": [
    {
     "data": {
      "text/plain": [
       "{'modi': 47,\n",
       " 'born': 9,\n",
       " 'raised': 60,\n",
       " 'vadnagar': 75,\n",
       " 'bombay': 8,\n",
       " 'state': 70,\n",
       " 'present': 56,\n",
       " 'day': 18,\n",
       " 'gujarat': 32,\n",
       " 'completed': 11,\n",
       " 'secondary': 64,\n",
       " 'education': 21,\n",
       " 'introduced': 40,\n",
       " 'age': 2,\n",
       " 'eight': 22,\n",
       " 'becoming': 6,\n",
       " 'full': 29,\n",
       " 'time': 74,\n",
       " 'worker': 76,\n",
       " 'organisation': 51,\n",
       " 'assigned': 5,\n",
       " 'bjp': 7,\n",
       " 'rose': 63,\n",
       " 'party': 52,\n",
       " 'hierarchy': 34,\n",
       " 'general': 30,\n",
       " 'secretary': 65,\n",
       " 'appointed': 3,\n",
       " 'chief': 10,\n",
       " 'minister': 46,\n",
       " 'elected': 23,\n",
       " 'legislative': 43,\n",
       " 'assembly': 4,\n",
       " 'soon': 67,\n",
       " 'administration': 1,\n",
       " 'considered': 13,\n",
       " 'complicit': 12,\n",
       " 'riots': 62,\n",
       " 'criticised': 17,\n",
       " 'management': 45,\n",
       " 'crisis': 16,\n",
       " 'according': 0,\n",
       " 'official': 50,\n",
       " 'record': 61,\n",
       " 'little': 44,\n",
       " 'people': 53,\n",
       " 'killed': 42,\n",
       " 'three': 73,\n",
       " 'quarter': 59,\n",
       " 'muslim': 49,\n",
       " 'independent': 36,\n",
       " 'source': 68,\n",
       " 'estimated': 25,\n",
       " 'death': 19,\n",
       " 'mostly': 48,\n",
       " 'special': 69,\n",
       " 'investigation': 41,\n",
       " 'team': 72,\n",
       " 'supreme': 71,\n",
       " 'court': 14,\n",
       " 'india': 38,\n",
       " 'found': 28,\n",
       " 'evidence': 26,\n",
       " 'initiate': 39,\n",
       " 'prosecution': 58,\n",
       " 'proceeding': 57,\n",
       " 'policy': 54,\n",
       " 'credited': 15,\n",
       " 'encouraging': 24,\n",
       " 'economic': 20,\n",
       " 'growth': 31,\n",
       " 'failing': 27,\n",
       " 'significantly': 66,\n",
       " 'improve': 35,\n",
       " 'health': 33,\n",
       " 'poverty': 55,\n",
       " 'index': 37}"
      ]
     },
     "execution_count": 20,
     "metadata": {},
     "output_type": "execute_result"
    }
   ],
   "source": [
    "cv.vocabulary_"
   ]
  },
  {
   "cell_type": "code",
   "execution_count": 21,
   "id": "f2ac6ebd",
   "metadata": {},
   "outputs": [
    {
     "data": {
      "text/plain": [
       "'modi born raised vadnagar bombay state present day gujarat completed secondary education'"
      ]
     },
     "execution_count": 21,
     "metadata": {},
     "output_type": "execute_result"
    }
   ],
   "source": [
    "corpus[0]"
   ]
  },
  {
   "cell_type": "code",
   "execution_count": 22,
   "id": "93d1066d",
   "metadata": {},
   "outputs": [
    {
     "data": {
      "text/plain": [
       "array([[0, 0, 0, 0, 0, 0, 0, 0, 1, 1, 0, 1, 0, 0, 0, 0, 0, 0, 1, 0, 0, 1,\n",
       "        0, 0, 0, 0, 0, 0, 0, 0, 0, 0, 1, 0, 0, 0, 0, 0, 0, 0, 0, 0, 0, 0,\n",
       "        0, 0, 0, 1, 0, 0, 0, 0, 0, 0, 0, 0, 1, 0, 0, 0, 1, 0, 0, 0, 1, 0,\n",
       "        0, 0, 0, 0, 1, 0, 0, 0, 0, 1, 0]], dtype=int64)"
      ]
     },
     "execution_count": 22,
     "metadata": {},
     "output_type": "execute_result"
    }
   ],
   "source": [
    "X[0].toarray()"
   ]
  },
  {
   "cell_type": "code",
   "execution_count": null,
   "id": "9ccc82b6",
   "metadata": {},
   "outputs": [],
   "source": [
    "##bag of words\n"
   ]
  }
 ],
 "metadata": {
  "kernelspec": {
   "display_name": "Python 3 (ipykernel)",
   "language": "python",
   "name": "python3"
  },
  "language_info": {
   "codemirror_mode": {
    "name": "ipython",
    "version": 3
   },
   "file_extension": ".py",
   "mimetype": "text/x-python",
   "name": "python",
   "nbconvert_exporter": "python",
   "pygments_lexer": "ipython3",
   "version": "3.11.5"
  }
 },
 "nbformat": 4,
 "nbformat_minor": 5
}
